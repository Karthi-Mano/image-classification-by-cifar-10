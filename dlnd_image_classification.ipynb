{
 "cells": [
  {
   "cell_type": "markdown",
   "metadata": {
    "collapsed": true
   },
   "source": [
    "# Image Classification\n",
    "This project classify images from the [CIFAR-10 dataset](https://www.cs.toronto.edu/~kriz/cifar.html).  The dataset consists of airplanes, dogs, cats, and other objects. The images will be preprocess, then a convolutional neural network will be trained with all the samples. The images need to be normalized and the labels need to be one-hot encoded. \n",
    "## Get the Data\n",
    "Run the following cell to download the [CIFAR-10 dataset for python](https://www.cs.toronto.edu/~kriz/cifar-10-python.tar.gz)."
   ]
  },
  {
   "cell_type": "code",
   "execution_count": 1,
   "metadata": {},
   "outputs": [
    {
     "name": "stdout",
     "output_type": "stream",
     "text": [
      "All files found!\n"
     ]
    }
   ],
   "source": [
    "from urllib.request import urlretrieve\n",
    "from os.path import isfile, isdir\n",
    "from tqdm import tqdm\n",
    "import problem_unittests as tests\n",
    "import tarfile\n",
    "\n",
    "cifar10_dataset_folder_path = 'cifar-10-batches-py'\n",
    "\n",
    "# Use Floyd's cifar-10 dataset if present\n",
    "floyd_cifar10_location = '/cifar/cifar-10-python.tar.gz'\n",
    "if isfile(floyd_cifar10_location):\n",
    "    tar_gz_path = floyd_cifar10_location\n",
    "else:\n",
    "    tar_gz_path = 'cifar-10-python.tar.gz'\n",
    "\n",
    "class DLProgress(tqdm):\n",
    "    last_block = 0\n",
    "\n",
    "    def hook(self, block_num=1, block_size=1, total_size=None):\n",
    "        self.total = total_size\n",
    "        self.update((block_num - self.last_block) * block_size)\n",
    "        self.last_block = block_num\n",
    "\n",
    "if not isfile(tar_gz_path):\n",
    "    with DLProgress(unit='B', unit_scale=True, miniters=1, desc='CIFAR-10 Dataset') as pbar:\n",
    "        urlretrieve(\n",
    "            'https://www.cs.toronto.edu/~kriz/cifar-10-python.tar.gz',\n",
    "            tar_gz_path,\n",
    "            pbar.hook)\n",
    "\n",
    "if not isdir(cifar10_dataset_folder_path):\n",
    "    with tarfile.open(tar_gz_path) as tar:\n",
    "        tar.extractall()\n",
    "        tar.close()\n",
    "\n",
    "\n",
    "tests.test_folder_path(cifar10_dataset_folder_path)"
   ]
  },
  {
   "cell_type": "markdown",
   "metadata": {},
   "source": [
    "## Explore the Data\n",
    "The dataset is broken into batches to prevent your machine from running out of memory.  The CIFAR-10 dataset consists of 5 batches, named `data_batch_1`, `data_batch_2`, etc.. Each batch contains the labels and images that are one of the following:\n",
    "* airplane\n",
    "* automobile\n",
    "* bird\n",
    "* cat\n",
    "* deer\n",
    "* dog\n",
    "* frog\n",
    "* horse\n",
    "* ship\n",
    "* truck\n",
    "\n",
    "Understanding a dataset is part of making predictions on the data.  Play around with the code cell below by changing the `batch_id` and `sample_id`. The `batch_id` is the id for a batch (1-5). The `sample_id` is the id for a image and label pair in the batch."
   ]
  },
  {
   "cell_type": "code",
   "execution_count": 2,
   "metadata": {},
   "outputs": [
    {
     "name": "stdout",
     "output_type": "stream",
     "text": [
      "\n",
      "Stats of batch 2:\n",
      "Samples: 10000\n",
      "Label Counts: {0: 984, 1: 1007, 2: 1010, 3: 995, 4: 1010, 5: 988, 6: 1008, 7: 1026, 8: 987, 9: 985}\n",
      "First 20 Labels: [1, 6, 6, 8, 8, 3, 4, 6, 0, 6, 0, 3, 6, 6, 5, 4, 8, 3, 2, 6]\n",
      "\n",
      "Example of Image 8:\n",
      "Image - Min Value: 31 Max Value: 255\n",
      "Image - Shape: (32, 32, 3)\n",
      "Label - Label Id: 0 Name: airplane\n"
     ]
    },
    {
     "data": {
      "image/png": "[encoded data removed]",
      "text/plain": [
       "<Figure size 432x288 with 1 Axes>"
      ]
     },
     "metadata": {
      "image/png": {
       "height": 250,
       "width": 253
      }
     },
     "output_type": "display_data"
    }
   ],
   "source": [
    "%matplotlib inline\n",
    "%config InlineBackend.figure_format = 'retina'\n",
    "\n",
    "import helper\n",
    "import numpy as np\n",
    "\n",
    "batch_id = 2\n",
    "sample_id = 8\n",
    "helper.display_stats(cifar10_dataset_folder_path, batch_id, sample_id)"
   ]
  },
  {
   "cell_type": "markdown",
   "metadata": {},
   "source": [
    "## Implement Preprocess Functions\n",
    "### Normalize"
   ]
  },
  {
   "cell_type": "code",
   "execution_count": 3,
   "metadata": {},
   "outputs": [
    {
     "name": "stdout",
     "output_type": "stream",
     "text": [
      "Tests Passed\n"
     ]
    }
   ],
   "source": [
    "def normalize(x):\n",
    "    \"\"\"\n",
    "    Normalize a list of sample image data in the range of 0 to 1\n",
    "    : x: List of image data.  The image shape is (32, 32, 3)\n",
    "    : return: Numpy array of normalize data\n",
    "    \"\"\"\n",
    "    normalized_x = np.zeros(tuple(x.shape))\n",
    "    nr_images = x.shape[0]\n",
    "    max_value, min_value = x.max(), x.min()\n",
    "\n",
    "    for image_index in range(nr_images):\n",
    "        normalized_x[image_index,...] = (x[image_index, ...] - float(min_value)) / float(max_value - min_value)    \n",
    "    return normalized_x\n",
    "\n",
    "\"\"\"\n",
    "DON'T MODIFY ANYTHING IN THIS CELL THAT IS BELOW THIS LINE\n",
    "\"\"\"\n",
    "tests.test_normalize(normalize)"
   ]
  },
  {
   "cell_type": "markdown",
   "metadata": {},
   "source": [
    "### One-hot encode\n",
    "The input, `x`, are a list of labels. The possible values for labels are 0 to 9. The one-hot encoding function should return the same encoding for each value between each call to `one_hot_encode`."
   ]
  },
  {
   "cell_type": "code",
   "execution_count": 4,
   "metadata": {},
   "outputs": [
    {
     "name": "stdout",
     "output_type": "stream",
     "text": [
      "Tests Passed\n"
     ]
    }
   ],
   "source": [
    "def one_hot_encode(x):\n",
    "    \"\"\"\n",
    "    One hot encode a list of sample labels. Return a one-hot encoded vector for each label.\n",
    "    : x: List of sample Labels\n",
    "    : return: Numpy array of one-hot encoded labels\n",
    "    \"\"\"\n",
    "    from sklearn.preprocessing import OneHotEncoder\n",
    "    encoder = OneHotEncoder(10)    \n",
    "    one_hot_encoded_labels = encoder.fit_transform(np.array(x).reshape(-1, 1)).toarray()\n",
    "    return one_hot_encoded_labels\n",
    "\n",
    "\n",
    "tests.test_one_hot_encode(one_hot_encode)"
   ]
  },
  {
   "cell_type": "markdown",
   "metadata": {},
   "source": [
    "### Randomize Data\n",
    "As you saw from exploring the data above, the order of the samples is already randomized."
   ]
  },
  {
   "cell_type": "markdown",
   "metadata": {},
   "source": [
    "## Preprocess all the data and save it\n",
    "The code cell below will preprocess all the CIFAR-10 data and save it to file. The code below also uses 10% of the training data for validation."
   ]
  },
  {
   "cell_type": "code",
   "execution_count": 5,
   "metadata": {},
   "outputs": [],
   "source": [
    "# Preprocess Training, Validation, and Testing Data\n",
    "helper.preprocess_and_save_data(cifar10_dataset_folder_path, normalize, one_hot_encode)"
   ]
  },
  {
   "cell_type": "markdown",
   "metadata": {},
   "source": [
    "# Check Point\n",
    "The preprocessed data has been saved to disk."
   ]
  },
  {
   "cell_type": "code",
   "execution_count": 6,
   "metadata": {},
   "outputs": [],
   "source": [
    "import pickle\n",
    "import problem_unittests as tests\n",
    "import helper\n",
    "\n",
    "# Load the Preprocessed Validation data\n",
    "valid_features, valid_labels = pickle.load(open('preprocess_validation.p', mode='rb'))"
   ]
  },
  {
   "cell_type": "markdown",
   "metadata": {},
   "source": [
    "## Build the network\n",
    "\n",
    "### Input\n",
    "The neural network needs to read the image data, one-hot encoded labels, and dropout keep probability. \n",
    "These names will be used at the end of the project to load the saved model.\n",
    "\n",
    "Note: `None` for shapes in TensorFlow allow for a dynamic size."
   ]
  },
  {
   "cell_type": "code",
   "execution_count": 7,
   "metadata": {},
   "outputs": [
    {
     "name": "stdout",
     "output_type": "stream",
     "text": [
      "Image Input Tests Passed.\n",
      "Label Input Tests Passed.\n",
      "Keep Prob Tests Passed.\n"
     ]
    }
   ],
   "source": [
    "import tensorflow as tf\n",
    "\n",
    "def neural_net_image_input(image_shape):\n",
    "    \"\"\"\n",
    "    Return a Tensor for a batch of image input\n",
    "    : image_shape: Shape of the images\n",
    "    : return: Tensor for image input.\n",
    "    \"\"\"\n",
    "    return tf.placeholder(tf.float32, shape=((None,) + image_shape), name='x')\n",
    "\n",
    "\n",
    "def neural_net_label_input(n_classes):\n",
    "    \"\"\"\n",
    "    Return a Tensor for a batch of label input\n",
    "    : n_classes: Number of classes\n",
    "    : return: Tensor for label input.\n",
    "    \"\"\"\n",
    "    return tf.placeholder(tf.float32, shape=(None, n_classes), name='y')\n",
    "\n",
    "\n",
    "def neural_net_keep_prob_input():\n",
    "    \"\"\"\n",
    "    Return a Tensor for keep probability\n",
    "    : return: Tensor for keep probability.\n",
    "    \"\"\"\n",
    "    return tf.placeholder(tf.float32, shape=(None), name='keep_prob')\n",
    "\n",
    "\n",
    "\n",
    "tf.reset_default_graph()\n",
    "tests.test_nn_image_inputs(neural_net_image_input)\n",
    "tests.test_nn_label_inputs(neural_net_label_input)\n",
    "tests.test_nn_keep_prob_inputs(neural_net_keep_prob_input)"
   ]
  },
  {
   "cell_type": "markdown",
   "metadata": {},
   "source": [
    "### Convolution and Max Pooling Layer\n",
    "Convolution layers have a lot of success with images. "
   ]
  },
  {
   "cell_type": "code",
   "execution_count": 8,
   "metadata": {},
   "outputs": [
    {
     "name": "stdout",
     "output_type": "stream",
     "text": [
      "Tests Passed\n"
     ]
    }
   ],
   "source": [
    "def conv2d_maxpool(x_tensor, conv_num_outputs, conv_ksize, conv_strides, pool_ksize, pool_strides):\n",
    "    \"\"\"\n",
    "    Apply convolution then max pooling to x_tensor\n",
    "    :param x_tensor: TensorFlow Tensor\n",
    "    :param conv_num_outputs: Number of outputs for the convolutional layer\n",
    "    :param conv_ksize: kernal size 2-D Tuple for the convolutional layer\n",
    "    :param conv_strides: Stride 2-D Tuple for convolution\n",
    "    :param pool_ksize: kernal size 2-D Tuple for pool\n",
    "    :param pool_strides: Stride 2-D Tuple for pool\n",
    "    : return: A tensor that represents convolution and max pooling of x_tensor\n",
    "    \"\"\"\n",
    "    weights_shape = list(conv_ksize) + [x_tensor.get_shape().as_list()[3], conv_num_outputs]\n",
    "    weights = tf.Variable(tf.truncated_normal(weights_shape, stddev=5e-2))\n",
    "    bias = tf.Variable(tf.zeros(conv_num_outputs))\n",
    "    \n",
    "    output = tf.nn.conv2d(x_tensor, weights, \n",
    "                          strides=[1, conv_strides[0], conv_strides[1], 1],\n",
    "                          padding='SAME')\n",
    "    output = tf.nn.bias_add(output, bias)\n",
    "    output = tf.nn.relu(output)\n",
    "    \n",
    "    output = tf.nn.max_pool(output, \n",
    "                            ksize=[1, pool_ksize[0], pool_ksize[1], 1], \n",
    "                            strides=[1, pool_strides[0], pool_strides[1], 1],\n",
    "                            padding='SAME')                                  \n",
    "    return output\n",
    "\n",
    "\n",
    "tests.test_con_pool(conv2d_maxpool)"
   ]
  },
  {
   "cell_type": "markdown",
   "metadata": {},
   "source": [
    "### Flatten Layer"
   ]
  },
  {
   "cell_type": "code",
   "execution_count": 9,
   "metadata": {},
   "outputs": [
    {
     "name": "stdout",
     "output_type": "stream",
     "text": [
      "Tests Passed\n"
     ]
    }
   ],
   "source": [
    "def flatten(x_tensor):\n",
    "    \"\"\"\n",
    "    Flatten x_tensor to (Batch Size, Flattened Image Size)\n",
    "    : x_tensor: A tensor of size (Batch Size, ...), where ... are the image dimensions.\n",
    "    : return: A tensor of size (Batch Size, Flattened Image Size).\n",
    "    \"\"\"\n",
    "    return tf.contrib.layers.flatten(x_tensor)\n",
    "\n",
    "\n",
    "tests.test_flatten(flatten)"
   ]
  },
  {
   "cell_type": "markdown",
   "metadata": {},
   "source": [
    "### Fully-Connected Layer"
   ]
  },
  {
   "cell_type": "code",
   "execution_count": 10,
   "metadata": {},
   "outputs": [
    {
     "name": "stdout",
     "output_type": "stream",
     "text": [
      "Tests Passed\n"
     ]
    }
   ],
   "source": [
    "def fully_conn(x_tensor, num_outputs):\n",
    "    \"\"\"\n",
    "    Apply a fully connected layer to x_tensor using weight and bias\n",
    "    : x_tensor: A 2-D tensor where the first dimension is batch size.\n",
    "    : num_outputs: The number of output that the new tensor should be.\n",
    "    : return: A 2-D tensor where the second dimension is num_outputs.\n",
    "    \"\"\"\n",
    "    return tf.layers.dense(x_tensor, num_outputs, activation=tf.nn.relu)  \n",
    "\n",
    "\n",
    "\n",
    "tests.test_fully_conn(fully_conn)"
   ]
  },
  {
   "cell_type": "markdown",
   "metadata": {},
   "source": [
    "### Output Layer"
   ]
  },
  {
   "cell_type": "code",
   "execution_count": 11,
   "metadata": {},
   "outputs": [
    {
     "name": "stdout",
     "output_type": "stream",
     "text": [
      "Tests Passed\n"
     ]
    }
   ],
   "source": [
    "def output(x_tensor, num_outputs):\n",
    "    \"\"\"\n",
    "    Apply a output layer to x_tensor using weight and bias\n",
    "    : x_tensor: A 2-D tensor where the first dimension is batch size.\n",
    "    : num_outputs: The number of output that the new tensor should be.\n",
    "    : return: A 2-D tensor where the second dimension is num_outputs.\n",
    "    \"\"\"\n",
    "    return tf.layers.dense(x_tensor, num_outputs)\n",
    "\n",
    "\n",
    "tests.test_output(output)"
   ]
  },
  {
   "cell_type": "markdown",
   "metadata": {},
   "source": [
    "### Create Convolutional Model\n",
    "The function `conv_net` create a convolutional neural network model. The function takes in a batch of images, `x`, and outputs logits."
   ]
  },
  {
   "cell_type": "code",
   "execution_count": 12,
   "metadata": {},
   "outputs": [
    {
     "name": "stdout",
     "output_type": "stream",
     "text": [
      "Neural Network Built!\n"
     ]
    }
   ],
   "source": [
    "def conv_net(x, keep_prob):\n",
    "    \"\"\"\n",
    "    Create a convolutional neural network model\n",
    "    : x: Placeholder tensor that holds image data.\n",
    "    : keep_prob: Placeholder tensor that hold dropout keep probability.\n",
    "    : return: Tensor that represents logits\n",
    "    \"\"\"\n",
    "    # Function Definition from Above:\n",
    "    #    conv2d_maxpool(x_tensor, conv_num_outputs, conv_ksize, conv_strides, pool_ksize, pool_strides)\n",
    "    conv = conv2d_maxpool(x,\n",
    "                           conv_num_outputs=64,\n",
    "                           conv_ksize=[5,5],\n",
    "                           conv_strides=[1,1],\n",
    "                           pool_ksize=[3,3],\n",
    "                           pool_strides=[2,2]) # 14x14x64\n",
    "    conv = tf.layers.dropout(conv, rate=keep_prob)\n",
    "    conv = conv2d_maxpool(conv,\n",
    "                          conv_num_outputs=64,\n",
    "                          conv_ksize=[5,5],\n",
    "                          conv_strides=[1,1],\n",
    "                          pool_ksize=[3,3],\n",
    "                          pool_strides=[2,2]) # 7x7x64\n",
    "    conv = tf.layers.dropout(conv, rate=keep_prob)\n",
    "        \n",
    "    # Function Definition from Above:\n",
    "    #   flatten(x_tensor)\n",
    "    flattened_conv = flatten(conv)\n",
    "    \n",
    "    \n",
    "    # Function Definition from Above:\n",
    "    #   fully_conn(x_tensor, num_outputs)\n",
    "    fc = fully_conn(flattened_conv, 384)\n",
    "    fc = fully_conn(fc, 192)\n",
    "    \n",
    "    \n",
    "    # Function Definition from Above:\n",
    "    #   output(x_tensor, num_outputs)\n",
    "    fc = output(fc, 10)\n",
    "    \n",
    "    return fc      \n",
    "\n",
    "\n",
    "\n",
    "##############################\n",
    "## Build the Neural Network ##\n",
    "##############################\n",
    "\n",
    "# Remove previous weights, bias, inputs, etc..\n",
    "tf.reset_default_graph()\n",
    "\n",
    "# Inputs\n",
    "x = neural_net_image_input((32, 32, 3))\n",
    "y = neural_net_label_input(10)\n",
    "keep_prob = neural_net_keep_prob_input()\n",
    "\n",
    "# Model\n",
    "logits = conv_net(x, keep_prob)\n",
    "\n",
    "# Name logits Tensor, so that is can be loaded from disk after training\n",
    "logits = tf.identity(logits, name='logits')\n",
    "\n",
    "# Loss and Optimizer\n",
    "cost = tf.reduce_mean(tf.nn.softmax_cross_entropy_with_logits(logits=logits, labels=y))\n",
    "optimizer = tf.train.AdamOptimizer().minimize(cost)\n",
    "\n",
    "# Accuracy\n",
    "correct_pred = tf.equal(tf.argmax(logits, 1), tf.argmax(y, 1))\n",
    "accuracy = tf.reduce_mean(tf.cast(correct_pred, tf.float32), name='accuracy')\n",
    "\n",
    "tests.test_conv_net(conv_net)"
   ]
  },
  {
   "cell_type": "markdown",
   "metadata": {},
   "source": [
    "## Train the Neural Network\n",
    "### Single Optimization\n",
    "The function `train_neural_network` to do a single optimization. \n",
    "This function will be called for each batch, so `tf.global_variables_initializer()` has already been called.\n",
    "\n",
    "Note: Nothing needs to be returned. This function is only optimizing the neural network."
   ]
  },
  {
   "cell_type": "code",
   "execution_count": 13,
   "metadata": {},
   "outputs": [
    {
     "name": "stdout",
     "output_type": "stream",
     "text": [
      "Tests Passed\n"
     ]
    }
   ],
   "source": [
    "def train_neural_network(session, optimizer, keep_probability, feature_batch, label_batch):\n",
    "    \"\"\"\n",
    "    Optimize the session on a batch of images and labels\n",
    "    : session: Current TensorFlow session\n",
    "    : optimizer: TensorFlow optimizer function\n",
    "    : keep_probability: keep probability\n",
    "    : feature_batch: Batch of Numpy image data\n",
    "    : label_batch: Batch of Numpy label data\n",
    "    \"\"\"\n",
    "    session.run(optimizer, feed_dict={x: feature_batch,\n",
    "                                      y: label_batch,\n",
    "                                      keep_prob: keep_probability})\n",
    "\n",
    "\n",
    "tests.test_train_nn(train_neural_network)"
   ]
  },
  {
   "cell_type": "markdown",
   "metadata": {},
   "source": [
    "### Show Stats\n",
    "The function `print_stats` print loss and validation accuracy."
   ]
  },
  {
   "cell_type": "code",
   "execution_count": 14,
   "metadata": {},
   "outputs": [],
   "source": [
    "def print_stats(session, feature_batch, label_batch, cost, accuracy):\n",
    "    \"\"\"\n",
    "    Print information about loss and validation accuracy\n",
    "    : session: Current TensorFlow session\n",
    "    : feature_batch: Batch of Numpy image data\n",
    "    : label_batch: Batch of Numpy label data\n",
    "    : cost: TensorFlow cost function\n",
    "    : accuracy: TensorFlow accuracy function\n",
    "    \"\"\"\n",
    "    loss = sess.run(cost, feed_dict={x: feature_batch,\n",
    "                                     y: label_batch,\n",
    "                                     keep_prob: 1.})\n",
    "    valid_acc = sess.run(accuracy, feed_dict={x: valid_features,\n",
    "                                              y: valid_labels,\n",
    "                                              keep_prob: 1.})\n",
    "\n",
    "    print('Loss: {:>10.4f} Accuracy: {:.6f}'.format(loss, valid_acc))"
   ]
  },
  {
   "cell_type": "markdown",
   "metadata": {},
   "source": [
    "### Hyperparameters"
   ]
  },
  {
   "cell_type": "code",
   "execution_count": 17,
   "metadata": {},
   "outputs": [],
   "source": [
    "epochs = 50\n",
    "batch_size = 8192 # Set batch_size to the highest number that your machine has memory for: 64, 128, 256...\n",
    "keep_probability = 0.7"
   ]
  },
  {
   "cell_type": "markdown",
   "metadata": {},
   "source": [
    "### Train on a Single CIFAR-10 Batch\n",
    "Instead of training the neural network on all the CIFAR-10 batches of data, let's use a single batch. This should save time while you iterate on the model to get a better accuracy.  Once the final validation accuracy is 50% or greater, run the model on all the data in the next section."
   ]
  },
  {
   "cell_type": "code",
   "execution_count": 18,
   "metadata": {},
   "outputs": [
    {
     "name": "stdout",
     "output_type": "stream",
     "text": [
      "Checking the Training on a Single Batch...\n",
      "Epoch  1, CIFAR-10 Batch 1:  Loss:     2.3154 Accuracy: 0.105000\n",
      "Epoch  2, CIFAR-10 Batch 1:  Loss:     2.2545 Accuracy: 0.156000\n",
      "Epoch  3, CIFAR-10 Batch 1:  Loss:     2.1907 Accuracy: 0.243600\n",
      "Epoch  4, CIFAR-10 Batch 1:  Loss:     2.0756 Accuracy: 0.251800\n",
      "Epoch  5, CIFAR-10 Batch 1:  Loss:     2.0792 Accuracy: 0.264600\n",
      "Epoch  6, CIFAR-10 Batch 1:  Loss:     1.9137 Accuracy: 0.311000\n",
      "Epoch  7, CIFAR-10 Batch 1:  Loss:     1.8590 Accuracy: 0.341600\n",
      "Epoch  8, CIFAR-10 Batch 1:  Loss:     1.8131 Accuracy: 0.343200\n",
      "Epoch  9, CIFAR-10 Batch 1:  Loss:     1.7733 Accuracy: 0.342600\n",
      "Epoch 10, CIFAR-10 Batch 1:  Loss:     1.7241 Accuracy: 0.353400\n",
      "Epoch 11, CIFAR-10 Batch 1:  Loss:     1.6642 Accuracy: 0.387200\n",
      "Epoch 12, CIFAR-10 Batch 1:  Loss:     1.6094 Accuracy: 0.386200\n",
      "Epoch 13, CIFAR-10 Batch 1:  Loss:     1.5594 Accuracy: 0.404200\n",
      "Epoch 14, CIFAR-10 Batch 1:  Loss:     1.5724 Accuracy: 0.394600\n",
      "Epoch 15, CIFAR-10 Batch 1:  Loss:     1.5043 Accuracy: 0.401400\n",
      "Epoch 16, CIFAR-10 Batch 1:  Loss:     1.4634 Accuracy: 0.428600\n",
      "Epoch 17, CIFAR-10 Batch 1:  Loss:     1.4352 Accuracy: 0.431000\n",
      "Epoch 18, CIFAR-10 Batch 1:  Loss:     1.4104 Accuracy: 0.427400\n",
      "Epoch 19, CIFAR-10 Batch 1:  Loss:     1.3760 Accuracy: 0.437000\n",
      "Epoch 20, CIFAR-10 Batch 1:  Loss:     1.3397 Accuracy: 0.450000\n",
      "Epoch 21, CIFAR-10 Batch 1:  Loss:     1.2960 Accuracy: 0.456800\n",
      "Epoch 22, CIFAR-10 Batch 1:  Loss:     1.2534 Accuracy: 0.461000\n",
      "Epoch 23, CIFAR-10 Batch 1:  Loss:     1.2316 Accuracy: 0.453800\n",
      "Epoch 24, CIFAR-10 Batch 1:  Loss:     1.2012 Accuracy: 0.470800\n",
      "Epoch 25, CIFAR-10 Batch 1:  Loss:     1.1544 Accuracy: 0.470400\n",
      "Epoch 26, CIFAR-10 Batch 1:  Loss:     1.1524 Accuracy: 0.468800\n",
      "Epoch 27, CIFAR-10 Batch 1:  Loss:     1.1946 Accuracy: 0.452600\n",
      "Epoch 28, CIFAR-10 Batch 1:  Loss:     1.0968 Accuracy: 0.487800\n",
      "Epoch 29, CIFAR-10 Batch 1:  Loss:     1.0610 Accuracy: 0.487000\n",
      "Epoch 30, CIFAR-10 Batch 1:  Loss:     1.0380 Accuracy: 0.489000\n",
      "Epoch 31, CIFAR-10 Batch 1:  Loss:     1.0213 Accuracy: 0.487600\n",
      "Epoch 32, CIFAR-10 Batch 1:  Loss:     0.9634 Accuracy: 0.503200\n",
      "Epoch 33, CIFAR-10 Batch 1:  Loss:     0.9270 Accuracy: 0.498800\n",
      "Epoch 34, CIFAR-10 Batch 1:  Loss:     0.9266 Accuracy: 0.506600\n",
      "Epoch 35, CIFAR-10 Batch 1:  Loss:     0.8808 Accuracy: 0.512200\n",
      "Epoch 36, CIFAR-10 Batch 1:  Loss:     0.8508 Accuracy: 0.508000\n",
      "Epoch 37, CIFAR-10 Batch 1:  Loss:     0.8153 Accuracy: 0.513600\n",
      "Epoch 38, CIFAR-10 Batch 1:  Loss:     0.7998 Accuracy: 0.516200\n",
      "Epoch 39, CIFAR-10 Batch 1:  Loss:     0.7631 Accuracy: 0.525200\n",
      "Epoch 40, CIFAR-10 Batch 1:  Loss:     0.7445 Accuracy: 0.515200\n",
      "Epoch 41, CIFAR-10 Batch 1:  Loss:     0.7095 Accuracy: 0.532600\n",
      "Epoch 42, CIFAR-10 Batch 1:  Loss:     0.6917 Accuracy: 0.526000\n",
      "Epoch 43, CIFAR-10 Batch 1:  Loss:     0.6776 Accuracy: 0.526600\n",
      "Epoch 44, CIFAR-10 Batch 1:  Loss:     0.7156 Accuracy: 0.509200\n",
      "Epoch 45, CIFAR-10 Batch 1:  Loss:     0.6400 Accuracy: 0.527800\n",
      "Epoch 46, CIFAR-10 Batch 1:  Loss:     0.6634 Accuracy: 0.508800\n",
      "Epoch 47, CIFAR-10 Batch 1:  Loss:     0.6526 Accuracy: 0.521800\n",
      "Epoch 48, CIFAR-10 Batch 1:  Loss:     0.6344 Accuracy: 0.521400\n",
      "Epoch 49, CIFAR-10 Batch 1:  Loss:     0.5920 Accuracy: 0.523400\n",
      "Epoch 50, CIFAR-10 Batch 1:  Loss:     0.5607 Accuracy: 0.535200\n"
     ]
    }
   ],
   "source": [
    "print('Checking the Training on a Single Batch...')\n",
    "with tf.Session() as sess:\n",
    "    # Initializing the variables\n",
    "    sess.run(tf.global_variables_initializer())\n",
    "    \n",
    "    # Training cycle\n",
    "    for epoch in range(epochs):\n",
    "        batch_i = 1\n",
    "        for batch_features, batch_labels in helper.load_preprocess_training_batch(batch_i, batch_size):\n",
    "            train_neural_network(sess, optimizer, keep_probability, batch_features, batch_labels)\n",
    "        print('Epoch {:>2}, CIFAR-10 Batch {}:  '.format(epoch + 1, batch_i), end='')\n",
    "        print_stats(sess, batch_features, batch_labels, cost, accuracy)"
   ]
  },
  {
   "cell_type": "markdown",
   "metadata": {},
   "source": [
    "### Fully Train the Model"
   ]
  },
  {
   "cell_type": "code",
   "execution_count": 19,
   "metadata": {},
   "outputs": [
    {
     "name": "stdout",
     "output_type": "stream",
     "text": [
      "Training...\n",
      "Epoch  1, CIFAR-10 Batch 1:  Loss:     2.2720 Accuracy: 0.162000\n",
      "Epoch  1, CIFAR-10 Batch 2:  Loss:     2.2380 Accuracy: 0.215600\n",
      "Epoch  1, CIFAR-10 Batch 3:  Loss:     2.1585 Accuracy: 0.228000\n",
      "Epoch  1, CIFAR-10 Batch 4:  Loss:     2.0087 Accuracy: 0.264800\n",
      "Epoch  1, CIFAR-10 Batch 5:  Loss:     2.2584 Accuracy: 0.188200\n",
      "Epoch  2, CIFAR-10 Batch 1:  Loss:     2.1457 Accuracy: 0.235800\n",
      "Epoch  2, CIFAR-10 Batch 2:  Loss:     1.9713 Accuracy: 0.282400\n",
      "Epoch  2, CIFAR-10 Batch 3:  Loss:     1.8977 Accuracy: 0.281600\n",
      "Epoch  2, CIFAR-10 Batch 4:  Loss:     1.8225 Accuracy: 0.310600\n",
      "Epoch  2, CIFAR-10 Batch 5:  Loss:     1.8463 Accuracy: 0.316000\n",
      "Epoch  3, CIFAR-10 Batch 1:  Loss:     1.8035 Accuracy: 0.349400\n",
      "Epoch  3, CIFAR-10 Batch 2:  Loss:     1.7478 Accuracy: 0.346200\n",
      "Epoch  3, CIFAR-10 Batch 3:  Loss:     1.6847 Accuracy: 0.363600\n",
      "Epoch  3, CIFAR-10 Batch 4:  Loss:     1.6249 Accuracy: 0.398200\n",
      "Epoch  3, CIFAR-10 Batch 5:  Loss:     1.6719 Accuracy: 0.402200\n",
      "Epoch  4, CIFAR-10 Batch 1:  Loss:     1.5978 Accuracy: 0.420800\n",
      "Epoch  4, CIFAR-10 Batch 2:  Loss:     1.5700 Accuracy: 0.411600\n",
      "Epoch  4, CIFAR-10 Batch 3:  Loss:     1.5021 Accuracy: 0.438400\n",
      "Epoch  4, CIFAR-10 Batch 4:  Loss:     1.4719 Accuracy: 0.438400\n",
      "Epoch  4, CIFAR-10 Batch 5:  Loss:     1.5076 Accuracy: 0.434800\n",
      "Epoch  5, CIFAR-10 Batch 1:  Loss:     1.4582 Accuracy: 0.459000\n",
      "Epoch  5, CIFAR-10 Batch 2:  Loss:     1.4577 Accuracy: 0.455200\n",
      "Epoch  5, CIFAR-10 Batch 3:  Loss:     1.3994 Accuracy: 0.452600\n",
      "Epoch  5, CIFAR-10 Batch 4:  Loss:     1.3792 Accuracy: 0.473000\n",
      "Epoch  5, CIFAR-10 Batch 5:  Loss:     1.4285 Accuracy: 0.467800\n",
      "Epoch  6, CIFAR-10 Batch 1:  Loss:     1.4016 Accuracy: 0.473800\n",
      "Epoch  6, CIFAR-10 Batch 2:  Loss:     1.3855 Accuracy: 0.464000\n",
      "Epoch  6, CIFAR-10 Batch 3:  Loss:     1.3703 Accuracy: 0.474400\n",
      "Epoch  6, CIFAR-10 Batch 4:  Loss:     1.3304 Accuracy: 0.485000\n",
      "Epoch  6, CIFAR-10 Batch 5:  Loss:     1.3374 Accuracy: 0.481800\n",
      "Epoch  7, CIFAR-10 Batch 1:  Loss:     1.3120 Accuracy: 0.500000\n",
      "Epoch  7, CIFAR-10 Batch 2:  Loss:     1.2850 Accuracy: 0.508200\n",
      "Epoch  7, CIFAR-10 Batch 3:  Loss:     1.2684 Accuracy: 0.504000\n",
      "Epoch  7, CIFAR-10 Batch 4:  Loss:     1.2516 Accuracy: 0.504000\n",
      "Epoch  7, CIFAR-10 Batch 5:  Loss:     1.2435 Accuracy: 0.519800\n",
      "Epoch  8, CIFAR-10 Batch 1:  Loss:     1.2148 Accuracy: 0.520200\n",
      "Epoch  8, CIFAR-10 Batch 2:  Loss:     1.2193 Accuracy: 0.523200\n",
      "Epoch  8, CIFAR-10 Batch 3:  Loss:     1.2104 Accuracy: 0.514800\n",
      "Epoch  8, CIFAR-10 Batch 4:  Loss:     1.1829 Accuracy: 0.519800\n",
      "Epoch  8, CIFAR-10 Batch 5:  Loss:     1.1917 Accuracy: 0.528600\n",
      "Epoch  9, CIFAR-10 Batch 1:  Loss:     1.1629 Accuracy: 0.533800\n",
      "Epoch  9, CIFAR-10 Batch 2:  Loss:     1.1417 Accuracy: 0.542000\n",
      "Epoch  9, CIFAR-10 Batch 3:  Loss:     1.1035 Accuracy: 0.542600\n",
      "Epoch  9, CIFAR-10 Batch 4:  Loss:     1.0830 Accuracy: 0.549200\n",
      "Epoch  9, CIFAR-10 Batch 5:  Loss:     1.1188 Accuracy: 0.542000\n",
      "Epoch 10, CIFAR-10 Batch 1:  Loss:     1.1086 Accuracy: 0.542400\n",
      "Epoch 10, CIFAR-10 Batch 2:  Loss:     1.0883 Accuracy: 0.552400\n",
      "Epoch 10, CIFAR-10 Batch 3:  Loss:     1.0254 Accuracy: 0.561800\n",
      "Epoch 10, CIFAR-10 Batch 4:  Loss:     1.0187 Accuracy: 0.556600\n",
      "Epoch 10, CIFAR-10 Batch 5:  Loss:     1.0713 Accuracy: 0.542800\n",
      "Epoch 11, CIFAR-10 Batch 1:  Loss:     1.0754 Accuracy: 0.539200\n",
      "Epoch 11, CIFAR-10 Batch 2:  Loss:     1.0836 Accuracy: 0.548400\n",
      "Epoch 11, CIFAR-10 Batch 3:  Loss:     1.0273 Accuracy: 0.541000\n",
      "Epoch 11, CIFAR-10 Batch 4:  Loss:     1.0136 Accuracy: 0.560200\n",
      "Epoch 11, CIFAR-10 Batch 5:  Loss:     0.9758 Accuracy: 0.576600\n",
      "Epoch 12, CIFAR-10 Batch 1:  Loss:     0.9689 Accuracy: 0.580200\n",
      "Epoch 12, CIFAR-10 Batch 2:  Loss:     0.9816 Accuracy: 0.574600\n",
      "Epoch 12, CIFAR-10 Batch 3:  Loss:     0.9295 Accuracy: 0.574600\n",
      "Epoch 12, CIFAR-10 Batch 4:  Loss:     0.9132 Accuracy: 0.580000\n",
      "Epoch 12, CIFAR-10 Batch 5:  Loss:     0.9096 Accuracy: 0.581400\n",
      "Epoch 13, CIFAR-10 Batch 1:  Loss:     0.9210 Accuracy: 0.580400\n",
      "Epoch 13, CIFAR-10 Batch 2:  Loss:     0.9238 Accuracy: 0.585000\n",
      "Epoch 13, CIFAR-10 Batch 3:  Loss:     0.8808 Accuracy: 0.571600\n",
      "Epoch 13, CIFAR-10 Batch 4:  Loss:     0.8938 Accuracy: 0.585800\n",
      "Epoch 13, CIFAR-10 Batch 5:  Loss:     0.8498 Accuracy: 0.594000\n",
      "Epoch 14, CIFAR-10 Batch 1:  Loss:     0.8542 Accuracy: 0.594600\n",
      "Epoch 14, CIFAR-10 Batch 2:  Loss:     0.8783 Accuracy: 0.588400\n",
      "Epoch 14, CIFAR-10 Batch 3:  Loss:     0.8400 Accuracy: 0.588800\n",
      "Epoch 14, CIFAR-10 Batch 4:  Loss:     0.8394 Accuracy: 0.585600\n",
      "Epoch 14, CIFAR-10 Batch 5:  Loss:     0.8156 Accuracy: 0.598200\n",
      "Epoch 15, CIFAR-10 Batch 1:  Loss:     0.8174 Accuracy: 0.598600\n",
      "Epoch 15, CIFAR-10 Batch 2:  Loss:     0.8217 Accuracy: 0.599200\n",
      "Epoch 15, CIFAR-10 Batch 3:  Loss:     0.7619 Accuracy: 0.603400\n",
      "Epoch 15, CIFAR-10 Batch 4:  Loss:     0.7629 Accuracy: 0.612000\n",
      "Epoch 15, CIFAR-10 Batch 5:  Loss:     0.7433 Accuracy: 0.605200\n",
      "Epoch 16, CIFAR-10 Batch 1:  Loss:     0.7621 Accuracy: 0.615800\n",
      "Epoch 16, CIFAR-10 Batch 2:  Loss:     0.7503 Accuracy: 0.616800\n",
      "Epoch 16, CIFAR-10 Batch 3:  Loss:     0.7238 Accuracy: 0.607000\n",
      "Epoch 16, CIFAR-10 Batch 4:  Loss:     0.7418 Accuracy: 0.606200\n",
      "Epoch 16, CIFAR-10 Batch 5:  Loss:     0.7285 Accuracy: 0.596800\n",
      "Epoch 17, CIFAR-10 Batch 1:  Loss:     0.7132 Accuracy: 0.626000\n",
      "Epoch 17, CIFAR-10 Batch 2:  Loss:     0.8047 Accuracy: 0.582600\n",
      "Epoch 17, CIFAR-10 Batch 3:  Loss:     0.7163 Accuracy: 0.608000\n",
      "Epoch 17, CIFAR-10 Batch 4:  Loss:     0.6995 Accuracy: 0.607800\n",
      "Epoch 17, CIFAR-10 Batch 5:  Loss:     0.7079 Accuracy: 0.608200\n",
      "Epoch 18, CIFAR-10 Batch 1:  Loss:     0.7083 Accuracy: 0.615400\n",
      "Epoch 18, CIFAR-10 Batch 2:  Loss:     0.6971 Accuracy: 0.622400\n",
      "Epoch 18, CIFAR-10 Batch 3:  Loss:     0.6508 Accuracy: 0.627600\n",
      "Epoch 18, CIFAR-10 Batch 4:  Loss:     0.6575 Accuracy: 0.617000\n",
      "Epoch 18, CIFAR-10 Batch 5:  Loss:     0.6430 Accuracy: 0.618800\n",
      "Epoch 19, CIFAR-10 Batch 1:  Loss:     0.6776 Accuracy: 0.618000\n",
      "Epoch 19, CIFAR-10 Batch 2:  Loss:     0.6702 Accuracy: 0.623800\n",
      "Epoch 19, CIFAR-10 Batch 3:  Loss:     0.6376 Accuracy: 0.609600\n",
      "Epoch 19, CIFAR-10 Batch 4:  Loss:     0.6052 Accuracy: 0.631200\n",
      "Epoch 19, CIFAR-10 Batch 5:  Loss:     0.5893 Accuracy: 0.618600\n",
      "Epoch 20, CIFAR-10 Batch 1:  Loss:     0.6066 Accuracy: 0.632000\n",
      "Epoch 20, CIFAR-10 Batch 2:  Loss:     0.6046 Accuracy: 0.631400\n",
      "Epoch 20, CIFAR-10 Batch 3:  Loss:     0.5870 Accuracy: 0.619000\n",
      "Epoch 20, CIFAR-10 Batch 4:  Loss:     0.5692 Accuracy: 0.628800\n",
      "Epoch 20, CIFAR-10 Batch 5:  Loss:     0.5539 Accuracy: 0.624000\n",
      "Epoch 21, CIFAR-10 Batch 1:  Loss:     0.5786 Accuracy: 0.626400\n",
      "Epoch 21, CIFAR-10 Batch 2:  Loss:     0.5805 Accuracy: 0.637400\n",
      "Epoch 21, CIFAR-10 Batch 3:  Loss:     0.5427 Accuracy: 0.627600\n",
      "Epoch 21, CIFAR-10 Batch 4:  Loss:     0.5313 Accuracy: 0.638800\n",
      "Epoch 21, CIFAR-10 Batch 5:  Loss:     0.4893 Accuracy: 0.640800\n",
      "Epoch 22, CIFAR-10 Batch 1:  Loss:     0.5400 Accuracy: 0.636600\n",
      "Epoch 22, CIFAR-10 Batch 2:  Loss:     0.5462 Accuracy: 0.637600\n",
      "Epoch 22, CIFAR-10 Batch 3:  Loss:     0.5572 Accuracy: 0.617200\n",
      "Epoch 22, CIFAR-10 Batch 4:  Loss:     0.4878 Accuracy: 0.648800\n",
      "Epoch 22, CIFAR-10 Batch 5:  Loss:     0.4632 Accuracy: 0.645200\n",
      "Epoch 23, CIFAR-10 Batch 1:  Loss:     0.4907 Accuracy: 0.636400\n",
      "Epoch 23, CIFAR-10 Batch 2:  Loss:     0.5219 Accuracy: 0.632400\n",
      "Epoch 23, CIFAR-10 Batch 3:  Loss:     0.4776 Accuracy: 0.636200\n",
      "Epoch 23, CIFAR-10 Batch 4:  Loss:     0.4844 Accuracy: 0.631800\n",
      "Epoch 23, CIFAR-10 Batch 5:  Loss:     0.4521 Accuracy: 0.638400\n",
      "Epoch 24, CIFAR-10 Batch 1:  Loss:     0.5183 Accuracy: 0.626400\n",
      "Epoch 24, CIFAR-10 Batch 2:  Loss:     0.4903 Accuracy: 0.644000\n",
      "Epoch 24, CIFAR-10 Batch 3:  Loss:     0.4539 Accuracy: 0.647800\n",
      "Epoch 24, CIFAR-10 Batch 4:  Loss:     0.4592 Accuracy: 0.624400\n",
      "Epoch 24, CIFAR-10 Batch 5:  Loss:     0.4385 Accuracy: 0.639800\n",
      "Epoch 25, CIFAR-10 Batch 1:  Loss:     0.4473 Accuracy: 0.645200\n",
      "Epoch 25, CIFAR-10 Batch 2:  Loss:     0.4358 Accuracy: 0.644400\n",
      "Epoch 25, CIFAR-10 Batch 3:  Loss:     0.4472 Accuracy: 0.639400\n",
      "Epoch 25, CIFAR-10 Batch 4:  Loss:     0.4376 Accuracy: 0.631600\n",
      "Epoch 25, CIFAR-10 Batch 5:  Loss:     0.4495 Accuracy: 0.614000\n",
      "Epoch 26, CIFAR-10 Batch 1:  Loss:     0.4656 Accuracy: 0.643600\n"
     ]
    },
    {
     "name": "stdout",
     "output_type": "stream",
     "text": [
      "Epoch 26, CIFAR-10 Batch 2:  Loss:     0.4434 Accuracy: 0.638800\n",
      "Epoch 26, CIFAR-10 Batch 3:  Loss:     0.4035 Accuracy: 0.652400\n",
      "Epoch 26, CIFAR-10 Batch 4:  Loss:     0.3785 Accuracy: 0.651400\n",
      "Epoch 26, CIFAR-10 Batch 5:  Loss:     0.3944 Accuracy: 0.631000\n",
      "Epoch 27, CIFAR-10 Batch 1:  Loss:     0.4198 Accuracy: 0.652600\n",
      "Epoch 27, CIFAR-10 Batch 2:  Loss:     0.4237 Accuracy: 0.637400\n",
      "Epoch 27, CIFAR-10 Batch 3:  Loss:     0.4526 Accuracy: 0.622000\n",
      "Epoch 27, CIFAR-10 Batch 4:  Loss:     0.4441 Accuracy: 0.615800\n",
      "Epoch 27, CIFAR-10 Batch 5:  Loss:     0.4119 Accuracy: 0.636800\n",
      "Epoch 28, CIFAR-10 Batch 1:  Loss:     0.4361 Accuracy: 0.629000\n",
      "Epoch 28, CIFAR-10 Batch 2:  Loss:     0.4481 Accuracy: 0.635800\n",
      "Epoch 28, CIFAR-10 Batch 3:  Loss:     0.3964 Accuracy: 0.643000\n",
      "Epoch 28, CIFAR-10 Batch 4:  Loss:     0.3801 Accuracy: 0.648600\n",
      "Epoch 28, CIFAR-10 Batch 5:  Loss:     0.3633 Accuracy: 0.646800\n",
      "Epoch 29, CIFAR-10 Batch 1:  Loss:     0.3753 Accuracy: 0.645400\n",
      "Epoch 29, CIFAR-10 Batch 2:  Loss:     0.3446 Accuracy: 0.660000\n",
      "Epoch 29, CIFAR-10 Batch 3:  Loss:     0.3482 Accuracy: 0.653600\n",
      "Epoch 29, CIFAR-10 Batch 4:  Loss:     0.3321 Accuracy: 0.657000\n",
      "Epoch 29, CIFAR-10 Batch 5:  Loss:     0.3039 Accuracy: 0.655200\n",
      "Epoch 30, CIFAR-10 Batch 1:  Loss:     0.3363 Accuracy: 0.652800\n",
      "Epoch 30, CIFAR-10 Batch 2:  Loss:     0.3173 Accuracy: 0.661800\n",
      "Epoch 30, CIFAR-10 Batch 3:  Loss:     0.3113 Accuracy: 0.648400\n",
      "Epoch 30, CIFAR-10 Batch 4:  Loss:     0.3354 Accuracy: 0.647200\n",
      "Epoch 30, CIFAR-10 Batch 5:  Loss:     0.3182 Accuracy: 0.645600\n",
      "Epoch 31, CIFAR-10 Batch 1:  Loss:     0.3299 Accuracy: 0.654400\n",
      "Epoch 31, CIFAR-10 Batch 2:  Loss:     0.3135 Accuracy: 0.660000\n",
      "Epoch 31, CIFAR-10 Batch 3:  Loss:     0.2922 Accuracy: 0.661800\n",
      "Epoch 31, CIFAR-10 Batch 4:  Loss:     0.2757 Accuracy: 0.643800\n",
      "Epoch 31, CIFAR-10 Batch 5:  Loss:     0.2959 Accuracy: 0.658800\n",
      "Epoch 32, CIFAR-10 Batch 1:  Loss:     0.3560 Accuracy: 0.630200\n",
      "Epoch 32, CIFAR-10 Batch 2:  Loss:     0.3813 Accuracy: 0.645400\n",
      "Epoch 32, CIFAR-10 Batch 3:  Loss:     0.3588 Accuracy: 0.638800\n",
      "Epoch 32, CIFAR-10 Batch 4:  Loss:     0.2998 Accuracy: 0.652200\n",
      "Epoch 32, CIFAR-10 Batch 5:  Loss:     0.2787 Accuracy: 0.653400\n",
      "Epoch 33, CIFAR-10 Batch 1:  Loss:     0.3004 Accuracy: 0.653800\n",
      "Epoch 33, CIFAR-10 Batch 2:  Loss:     0.3006 Accuracy: 0.658600\n",
      "Epoch 33, CIFAR-10 Batch 3:  Loss:     0.3028 Accuracy: 0.654600\n",
      "Epoch 33, CIFAR-10 Batch 4:  Loss:     0.2905 Accuracy: 0.648000\n",
      "Epoch 33, CIFAR-10 Batch 5:  Loss:     0.2793 Accuracy: 0.647000\n",
      "Epoch 34, CIFAR-10 Batch 1:  Loss:     0.3125 Accuracy: 0.647600\n",
      "Epoch 34, CIFAR-10 Batch 2:  Loss:     0.3184 Accuracy: 0.645800\n",
      "Epoch 34, CIFAR-10 Batch 3:  Loss:     0.3267 Accuracy: 0.647800\n",
      "Epoch 34, CIFAR-10 Batch 4:  Loss:     0.3089 Accuracy: 0.632400\n",
      "Epoch 34, CIFAR-10 Batch 5:  Loss:     0.3720 Accuracy: 0.626200\n",
      "Epoch 35, CIFAR-10 Batch 1:  Loss:     0.3316 Accuracy: 0.640800\n",
      "Epoch 35, CIFAR-10 Batch 2:  Loss:     0.2880 Accuracy: 0.655800\n",
      "Epoch 35, CIFAR-10 Batch 3:  Loss:     0.3253 Accuracy: 0.649800\n",
      "Epoch 35, CIFAR-10 Batch 4:  Loss:     0.3019 Accuracy: 0.636000\n",
      "Epoch 35, CIFAR-10 Batch 5:  Loss:     0.2437 Accuracy: 0.669400\n",
      "Epoch 36, CIFAR-10 Batch 1:  Loss:     0.2967 Accuracy: 0.644200\n",
      "Epoch 36, CIFAR-10 Batch 2:  Loss:     0.3008 Accuracy: 0.643600\n",
      "Epoch 36, CIFAR-10 Batch 3:  Loss:     0.2441 Accuracy: 0.664000\n",
      "Epoch 36, CIFAR-10 Batch 4:  Loss:     0.2780 Accuracy: 0.654600\n",
      "Epoch 36, CIFAR-10 Batch 5:  Loss:     0.2895 Accuracy: 0.636200\n",
      "Epoch 37, CIFAR-10 Batch 1:  Loss:     0.3189 Accuracy: 0.641000\n",
      "Epoch 37, CIFAR-10 Batch 2:  Loss:     0.2999 Accuracy: 0.639400\n",
      "Epoch 37, CIFAR-10 Batch 3:  Loss:     0.2693 Accuracy: 0.660600\n",
      "Epoch 37, CIFAR-10 Batch 4:  Loss:     0.2689 Accuracy: 0.639000\n",
      "Epoch 37, CIFAR-10 Batch 5:  Loss:     0.2505 Accuracy: 0.659600\n",
      "Epoch 38, CIFAR-10 Batch 1:  Loss:     0.2365 Accuracy: 0.671800\n",
      "Epoch 38, CIFAR-10 Batch 2:  Loss:     0.2431 Accuracy: 0.656200\n",
      "Epoch 38, CIFAR-10 Batch 3:  Loss:     0.2340 Accuracy: 0.665800\n",
      "Epoch 38, CIFAR-10 Batch 4:  Loss:     0.2095 Accuracy: 0.660000\n",
      "Epoch 38, CIFAR-10 Batch 5:  Loss:     0.2004 Accuracy: 0.660000\n",
      "Epoch 39, CIFAR-10 Batch 1:  Loss:     0.2350 Accuracy: 0.662800\n",
      "Epoch 39, CIFAR-10 Batch 2:  Loss:     0.2294 Accuracy: 0.654200\n",
      "Epoch 39, CIFAR-10 Batch 3:  Loss:     0.2087 Accuracy: 0.671400\n",
      "Epoch 39, CIFAR-10 Batch 4:  Loss:     0.1886 Accuracy: 0.668600\n",
      "Epoch 39, CIFAR-10 Batch 5:  Loss:     0.2025 Accuracy: 0.659800\n",
      "Epoch 40, CIFAR-10 Batch 1:  Loss:     0.2388 Accuracy: 0.657000\n",
      "Epoch 40, CIFAR-10 Batch 2:  Loss:     0.2231 Accuracy: 0.653600\n",
      "Epoch 40, CIFAR-10 Batch 3:  Loss:     0.2248 Accuracy: 0.656600\n",
      "Epoch 40, CIFAR-10 Batch 4:  Loss:     0.2357 Accuracy: 0.648800\n",
      "Epoch 40, CIFAR-10 Batch 5:  Loss:     0.2998 Accuracy: 0.624000\n",
      "Epoch 41, CIFAR-10 Batch 1:  Loss:     0.3166 Accuracy: 0.645200\n",
      "Epoch 41, CIFAR-10 Batch 2:  Loss:     0.2685 Accuracy: 0.645000\n",
      "Epoch 41, CIFAR-10 Batch 3:  Loss:     0.2379 Accuracy: 0.658200\n",
      "Epoch 41, CIFAR-10 Batch 4:  Loss:     0.2624 Accuracy: 0.646800\n",
      "Epoch 41, CIFAR-10 Batch 5:  Loss:     0.2088 Accuracy: 0.652600\n",
      "Epoch 42, CIFAR-10 Batch 1:  Loss:     0.2066 Accuracy: 0.670200\n",
      "Epoch 42, CIFAR-10 Batch 2:  Loss:     0.2089 Accuracy: 0.674200\n",
      "Epoch 42, CIFAR-10 Batch 3:  Loss:     0.2019 Accuracy: 0.659600\n",
      "Epoch 42, CIFAR-10 Batch 4:  Loss:     0.1982 Accuracy: 0.647400\n",
      "Epoch 42, CIFAR-10 Batch 5:  Loss:     0.1717 Accuracy: 0.668400\n",
      "Epoch 43, CIFAR-10 Batch 1:  Loss:     0.1817 Accuracy: 0.675600\n",
      "Epoch 43, CIFAR-10 Batch 2:  Loss:     0.1988 Accuracy: 0.652200\n",
      "Epoch 43, CIFAR-10 Batch 3:  Loss:     0.1731 Accuracy: 0.667200\n",
      "Epoch 43, CIFAR-10 Batch 4:  Loss:     0.1434 Accuracy: 0.680600\n",
      "Epoch 43, CIFAR-10 Batch 5:  Loss:     0.1602 Accuracy: 0.670800\n",
      "Epoch 44, CIFAR-10 Batch 1:  Loss:     0.2028 Accuracy: 0.657600\n",
      "Epoch 44, CIFAR-10 Batch 2:  Loss:     0.1684 Accuracy: 0.674200\n",
      "Epoch 44, CIFAR-10 Batch 3:  Loss:     0.1767 Accuracy: 0.668800\n",
      "Epoch 44, CIFAR-10 Batch 4:  Loss:     0.1711 Accuracy: 0.667600\n",
      "Epoch 44, CIFAR-10 Batch 5:  Loss:     0.1413 Accuracy: 0.676400\n",
      "Epoch 45, CIFAR-10 Batch 1:  Loss:     0.1777 Accuracy: 0.667400\n",
      "Epoch 45, CIFAR-10 Batch 2:  Loss:     0.1690 Accuracy: 0.669600\n",
      "Epoch 45, CIFAR-10 Batch 3:  Loss:     0.1511 Accuracy: 0.674000\n",
      "Epoch 45, CIFAR-10 Batch 4:  Loss:     0.1377 Accuracy: 0.676200\n",
      "Epoch 45, CIFAR-10 Batch 5:  Loss:     0.1294 Accuracy: 0.677600\n",
      "Epoch 46, CIFAR-10 Batch 1:  Loss:     0.1631 Accuracy: 0.672000\n",
      "Epoch 46, CIFAR-10 Batch 2:  Loss:     0.1532 Accuracy: 0.671400\n",
      "Epoch 46, CIFAR-10 Batch 3:  Loss:     0.1338 Accuracy: 0.685800\n",
      "Epoch 46, CIFAR-10 Batch 4:  Loss:     0.1151 Accuracy: 0.690600\n",
      "Epoch 46, CIFAR-10 Batch 5:  Loss:     0.1118 Accuracy: 0.682000\n",
      "Epoch 47, CIFAR-10 Batch 1:  Loss:     0.1302 Accuracy: 0.680000\n",
      "Epoch 47, CIFAR-10 Batch 2:  Loss:     0.1255 Accuracy: 0.682400\n",
      "Epoch 47, CIFAR-10 Batch 3:  Loss:     0.1194 Accuracy: 0.680800\n",
      "Epoch 47, CIFAR-10 Batch 4:  Loss:     0.1514 Accuracy: 0.665400\n",
      "Epoch 47, CIFAR-10 Batch 5:  Loss:     0.1832 Accuracy: 0.650400\n",
      "Epoch 48, CIFAR-10 Batch 1:  Loss:     0.2481 Accuracy: 0.645000\n",
      "Epoch 48, CIFAR-10 Batch 2:  Loss:     0.1784 Accuracy: 0.663600\n",
      "Epoch 48, CIFAR-10 Batch 3:  Loss:     0.1449 Accuracy: 0.680800\n",
      "Epoch 48, CIFAR-10 Batch 4:  Loss:     0.1951 Accuracy: 0.648000\n",
      "Epoch 48, CIFAR-10 Batch 5:  Loss:     0.1533 Accuracy: 0.667800\n",
      "Epoch 49, CIFAR-10 Batch 1:  Loss:     0.1708 Accuracy: 0.674400\n",
      "Epoch 49, CIFAR-10 Batch 2:  Loss:     0.1711 Accuracy: 0.662200\n",
      "Epoch 49, CIFAR-10 Batch 3:  Loss:     0.1469 Accuracy: 0.670400\n",
      "Epoch 49, CIFAR-10 Batch 4:  Loss:     0.1446 Accuracy: 0.674400\n",
      "Epoch 49, CIFAR-10 Batch 5:  Loss:     0.1353 Accuracy: 0.674800\n",
      "Epoch 50, CIFAR-10 Batch 1:  Loss:     0.1905 Accuracy: 0.650200\n",
      "Epoch 50, CIFAR-10 Batch 2:  Loss:     0.2944 Accuracy: 0.615600\n",
      "Epoch 50, CIFAR-10 Batch 3:  Loss:     0.2690 Accuracy: 0.620600\n",
      "Epoch 50, CIFAR-10 Batch 4:  Loss:     0.1717 Accuracy: 0.666800\n",
      "Epoch 50, CIFAR-10 Batch 5:  Loss:     0.1642 Accuracy: 0.659400\n"
     ]
    }
   ],
   "source": [
    "save_model_path = './image_classification'\n",
    "\n",
    "print('Training...')\n",
    "with tf.Session() as sess:\n",
    "    # Initializing the variables\n",
    "    sess.run(tf.global_variables_initializer())\n",
    "    \n",
    "    # Training cycle\n",
    "    for epoch in range(epochs):\n",
    "        # Loop over all batches\n",
    "        n_batches = 5\n",
    "        for batch_i in range(1, n_batches + 1):\n",
    "            for batch_features, batch_labels in helper.load_preprocess_training_batch(batch_i, batch_size):\n",
    "                train_neural_network(sess, optimizer, keep_probability, batch_features, batch_labels)\n",
    "            print('Epoch {:>2}, CIFAR-10 Batch {}:  '.format(epoch + 1, batch_i), end='')\n",
    "            print_stats(sess, batch_features, batch_labels, cost, accuracy)\n",
    "            \n",
    "    # Save Model\n",
    "    saver = tf.train.Saver()\n",
    "    save_path = saver.save(sess, save_model_path)"
   ]
  },
  {
   "cell_type": "markdown",
   "metadata": {},
   "source": [
    "# Checkpoint\n",
    "\n",
    "## Test Model\n",
    "The accuracy should have greater than 50%."
   ]
  },
  {
   "cell_type": "code",
   "execution_count": 20,
   "metadata": {},
   "outputs": [
    {
     "name": "stdout",
     "output_type": "stream",
     "text": [
      "INFO:tensorflow:Restoring parameters from ./image_classification\n",
      "Testing Accuracy: 0.6622287333011627\n",
      "\n"
     ]
    },
    {
     "data": {
      "image/png": "[encoded data removed]",
      "text/plain": [
       "<Figure size 432x288 with 8 Axes>"
      ]
     },
     "metadata": {
      "image/png": {
       "height": 319,
       "width": 355
      }
     },
     "output_type": "display_data"
    }
   ],
   "source": [
    "%matplotlib inline\n",
    "%config InlineBackend.figure_format = 'retina'\n",
    "\n",
    "import tensorflow as tf\n",
    "import pickle\n",
    "import helper\n",
    "import random\n",
    "\n",
    "# Set batch size if not already set\n",
    "try:\n",
    "    if batch_size:\n",
    "        pass\n",
    "except NameError:\n",
    "    batch_size = 64\n",
    "\n",
    "save_model_path = './image_classification'\n",
    "n_samples = 4\n",
    "top_n_predictions = 3\n",
    "\n",
    "def test_model():\n",
    "    \"\"\"\n",
    "    Test the saved model against the test dataset\n",
    "    \"\"\"\n",
    "\n",
    "    test_features, test_labels = pickle.load(open('preprocess_test.p', mode='rb'))\n",
    "    loaded_graph = tf.Graph()\n",
    "\n",
    "    with tf.Session(graph=loaded_graph) as sess:\n",
    "        # Load model\n",
    "        loader = tf.train.import_meta_graph(save_model_path + '.meta')\n",
    "        loader.restore(sess, save_model_path)\n",
    "\n",
    "        # Get Tensors from loaded model\n",
    "        loaded_x = loaded_graph.get_tensor_by_name('x:0')\n",
    "        loaded_y = loaded_graph.get_tensor_by_name('y:0')\n",
    "        loaded_keep_prob = loaded_graph.get_tensor_by_name('keep_prob:0')\n",
    "        loaded_logits = loaded_graph.get_tensor_by_name('logits:0')\n",
    "        loaded_acc = loaded_graph.get_tensor_by_name('accuracy:0')\n",
    "        \n",
    "        # Get accuracy in batches for memory limitations\n",
    "        test_batch_acc_total = 0\n",
    "        test_batch_count = 0\n",
    "        \n",
    "        for test_feature_batch, test_label_batch in helper.batch_features_labels(test_features, test_labels, batch_size):\n",
    "            test_batch_acc_total += sess.run(\n",
    "                loaded_acc,\n",
    "                feed_dict={loaded_x: test_feature_batch, loaded_y: test_label_batch, loaded_keep_prob: 1.0})\n",
    "            test_batch_count += 1\n",
    "\n",
    "        print('Testing Accuracy: {}\\n'.format(test_batch_acc_total/test_batch_count))\n",
    "\n",
    "        # Print Random Samples\n",
    "        random_test_features, random_test_labels = tuple(zip(*random.sample(list(zip(test_features, test_labels)), n_samples)))\n",
    "        random_test_predictions = sess.run(\n",
    "            tf.nn.top_k(tf.nn.softmax(loaded_logits), top_n_predictions),\n",
    "            feed_dict={loaded_x: random_test_features, loaded_y: random_test_labels, loaded_keep_prob: 1.0})\n",
    "        helper.display_image_predictions(random_test_features, random_test_labels, random_test_predictions)\n",
    "\n",
    "\n",
    "test_model()"
   ]
  },
  {
   "cell_type": "markdown",
   "metadata": {},
   "source": [
    "###### Why 66% Accuracy?\n",
    "You might be wondering why can't get an accuracy any higher. First things first, 50% or 60% isn't bad for a simple CNN. Pure guessing would get you 10% accuracy. However, you might notice people are getting scores [well above 80%](http://rodrigob.github.io/are_we_there_yet/build/classification_datasets_results.html#43494641522d3130).  That's because we haven't taught you all there is to know about neural networks. We still need to cover a few more techniques.\n",
    "## Submitting This Project\n",
    "When submitting this project, make sure to run all the cells before saving the notebook.  Save the notebook file as \"dlnd_image_classification.ipynb\" and save it as a HTML file under \"File\" -> \"Download as\".  Include the \"helper.py\" and \"problem_unittests.py\" files in your submission."
   ]
  }
 ],
 "metadata": {
  "kernelspec": {
   "display_name": "Python 3",
   "language": "python",
   "name": "python3"
  },
  "language_info": {
   "codemirror_mode": {
    "name": "ipython",
    "version": 3
   },
   "file_extension": ".py",
   "mimetype": "text/x-python",
   "name": "python",
   "nbconvert_exporter": "python",
   "pygments_lexer": "ipython3",
   "version": "3.6.4"
  }
 },
 "nbformat": 4,
 "nbformat_minor": 1
}
